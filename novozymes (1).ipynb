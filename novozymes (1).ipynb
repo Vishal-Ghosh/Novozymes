{
 "cells": [
  {
   "cell_type": "markdown",
   "id": "774b9e8f",
   "metadata": {
    "papermill": {
     "duration": 0.011245,
     "end_time": "2024-07-20T09:15:56.433886",
     "exception": false,
     "start_time": "2024-07-20T09:15:56.422641",
     "status": "completed"
    },
    "tags": []
   },
   "source": [
    "# **Overview**\n",
    "\n",
    "# Dataset:- https://www.kaggle.com/competitions/novozymes-enzyme-stability-prediction/data\n",
    "\n",
    "The Kaggle competition \"Novozymes Enzyme Stability Prediction\" involves predicting the stability of enzyme variants based on their amino acid sequences. \n",
    "Participants are provided with a dataset of enzyme sequences and various features related to these sequences. The goal is to predict a target variable, typically representing some measure of stability, for new enzyme sequences.\n",
    "\n",
    "# Task\n",
    "You have a dataset that contains information about different enzyme sequences, such as their amino acid sequence, the pH level, and the source of the data. For each enzyme, there's a target value called tm, which represents the stability of the enzyme.\n",
    "\n",
    "**Train a Machine Learning Model:**\n",
    "Use the provided training dataset, which includes enzyme sequences and their corresponding tm values.\n",
    "The goal is to teach the model to understand the relationship between the features (amino acid sequence, pH, data source) and the target tm value.\n",
    "\n",
    "**Make Predictions for New Data:**\n",
    "\n",
    "After the model is trained, you will use it to predict the tm values for a new set of enzyme sequences provided in the test dataset.\n",
    "The test dataset contains the same features but does not include the tm values. Your model will fill in these missing tm values.\n"
   ]
  },
  {
   "cell_type": "markdown",
   "id": "f75bf139",
   "metadata": {
    "papermill": {
     "duration": 0.010587,
     "end_time": "2024-07-20T09:15:56.455406",
     "exception": false,
     "start_time": "2024-07-20T09:15:56.444819",
     "status": "completed"
    },
    "tags": []
   },
   "source": [
    "# **Setting Up Environment**"
   ]
  },
  {
   "cell_type": "markdown",
   "id": "c77f0d20",
   "metadata": {
    "papermill": {
     "duration": 0.010018,
     "end_time": "2024-07-20T09:15:56.476571",
     "exception": false,
     "start_time": "2024-07-20T09:15:56.466553",
     "status": "completed"
    },
    "tags": []
   },
   "source": [
    "# Installing necessary libraries "
   ]
  },
  {
   "cell_type": "code",
   "execution_count": 1,
   "id": "c5cfac20",
   "metadata": {
    "execution": {
     "iopub.execute_input": "2024-07-20T09:15:56.499370Z",
     "iopub.status.busy": "2024-07-20T09:15:56.498802Z",
     "iopub.status.idle": "2024-07-20T09:16:24.278750Z",
     "shell.execute_reply": "2024-07-20T09:16:24.277231Z"
    },
    "papermill": {
     "duration": 27.794991,
     "end_time": "2024-07-20T09:16:24.281851",
     "exception": false,
     "start_time": "2024-07-20T09:15:56.486860",
     "status": "completed"
    },
    "tags": []
   },
   "outputs": [],
   "source": [
    "!pip install -q biopandas\n",
    "!pip install -q biopython\n"
   ]
  },
  {
   "cell_type": "markdown",
   "id": "5a4ce2b7",
   "metadata": {
    "papermill": {
     "duration": 0.009786,
     "end_time": "2024-07-20T09:16:24.303298",
     "exception": false,
     "start_time": "2024-07-20T09:16:24.293512",
     "status": "completed"
    },
    "tags": []
   },
   "source": [
    "# **Importing Libraries**"
   ]
  },
  {
   "cell_type": "markdown",
   "id": "126af1b1",
   "metadata": {
    "papermill": {
     "duration": 0.009854,
     "end_time": "2024-07-20T09:16:24.323308",
     "exception": false,
     "start_time": "2024-07-20T09:16:24.313454",
     "status": "completed"
    },
    "tags": []
   },
   "source": [
    "**Libraries: Installing essential libraries like pandas, numpy, scikit-learn, matplotlib, seaborn.**\n"
   ]
  },
  {
   "cell_type": "code",
   "execution_count": 2,
   "id": "b734ba43",
   "metadata": {
    "execution": {
     "iopub.execute_input": "2024-07-20T09:16:24.345642Z",
     "iopub.status.busy": "2024-07-20T09:16:24.345238Z",
     "iopub.status.idle": "2024-07-20T09:16:26.768774Z",
     "shell.execute_reply": "2024-07-20T09:16:26.767857Z"
    },
    "papermill": {
     "duration": 2.437986,
     "end_time": "2024-07-20T09:16:26.771450",
     "exception": false,
     "start_time": "2024-07-20T09:16:24.333464",
     "status": "completed"
    },
    "tags": []
   },
   "outputs": [],
   "source": [
    "import pandas as pd\n",
    "import numpy as np\n",
    "import biopandas\n",
    "from biopandas.pdb import PandasPdb\n",
    "pdb = PandasPdb()\n",
    "from sklearn.preprocessing import OneHotEncoder\n",
    "import matplotlib.pyplot as plt\n",
    "import seaborn as sns\n",
    "\n",
    "\n",
    "\n"
   ]
  },
  {
   "cell_type": "markdown",
   "id": "00d58dfe",
   "metadata": {
    "papermill": {
     "duration": 0.009736,
     "end_time": "2024-07-20T09:16:26.791720",
     "exception": false,
     "start_time": "2024-07-20T09:16:26.781984",
     "status": "completed"
    },
    "tags": []
   },
   "source": [
    "# **Loading data**\n",
    "# Import CSV as DataFrames"
   ]
  },
  {
   "cell_type": "code",
   "execution_count": 3,
   "id": "95e8ca46",
   "metadata": {
    "execution": {
     "iopub.execute_input": "2024-07-20T09:16:26.814096Z",
     "iopub.status.busy": "2024-07-20T09:16:26.813575Z",
     "iopub.status.idle": "2024-07-20T09:16:27.288858Z",
     "shell.execute_reply": "2024-07-20T09:16:27.287920Z"
    },
    "papermill": {
     "duration": 0.48898,
     "end_time": "2024-07-20T09:16:27.291321",
     "exception": false,
     "start_time": "2024-07-20T09:16:26.802341",
     "status": "completed"
    },
    "tags": []
   },
   "outputs": [],
   "source": [
    "test = pd.read_csv('/kaggle/input/novozymes-enzyme-stability-prediction/test.csv')\n",
    "test_lab = pd.read_csv('/kaggle/input/novozymes-enzyme-stability-prediction/test_labels.csv')\n",
    "train = pd.read_csv('/kaggle/input/novozymes-enzyme-stability-prediction/train.csv')\n",
    "train_up = pd.read_csv('/kaggle/input/novozymes-enzyme-stability-prediction/train_updates_20220929.csv')\n",
    "wild_struc = pdb.read_pdb('/kaggle/input/novozymes-enzyme-stability-prediction/wildtype_structure_prediction_af2.pdb')"
   ]
  },
  {
   "cell_type": "markdown",
   "id": "cb98b804",
   "metadata": {
    "papermill": {
     "duration": 0.009738,
     "end_time": "2024-07-20T09:16:27.311246",
     "exception": false,
     "start_time": "2024-07-20T09:16:27.301508",
     "status": "completed"
    },
    "tags": []
   },
   "source": [
    "# **Exploratory Data Analysis (EDA):**\n",
    "\n",
    "**Understanding the structure, distribution, and relationships in the data.**\n",
    "EDA helps to get an initial understanding of the dataset. By looking at the first few rows, data types, and summary statistics, we can plan our preprocessing and modeling steps more effectively."
   ]
  },
  {
   "cell_type": "code",
   "execution_count": 4,
   "id": "a6f300af",
   "metadata": {
    "execution": {
     "iopub.execute_input": "2024-07-20T09:16:27.333163Z",
     "iopub.status.busy": "2024-07-20T09:16:27.332766Z",
     "iopub.status.idle": "2024-07-20T09:16:27.348626Z",
     "shell.execute_reply": "2024-07-20T09:16:27.347514Z"
    },
    "papermill": {
     "duration": 0.030012,
     "end_time": "2024-07-20T09:16:27.351366",
     "exception": false,
     "start_time": "2024-07-20T09:16:27.321354",
     "status": "completed"
    },
    "tags": []
   },
   "outputs": [
    {
     "data": {
      "text/html": [
       "<div>\n",
       "<style scoped>\n",
       "    .dataframe tbody tr th:only-of-type {\n",
       "        vertical-align: middle;\n",
       "    }\n",
       "\n",
       "    .dataframe tbody tr th {\n",
       "        vertical-align: top;\n",
       "    }\n",
       "\n",
       "    .dataframe thead th {\n",
       "        text-align: right;\n",
       "    }\n",
       "</style>\n",
       "<table border=\"1\" class=\"dataframe\">\n",
       "  <thead>\n",
       "    <tr style=\"text-align: right;\">\n",
       "      <th></th>\n",
       "      <th>seq_id</th>\n",
       "      <th>protein_sequence</th>\n",
       "      <th>pH</th>\n",
       "      <th>data_source</th>\n",
       "    </tr>\n",
       "  </thead>\n",
       "  <tbody>\n",
       "    <tr>\n",
       "      <th>0</th>\n",
       "      <td>31390</td>\n",
       "      <td>VPVNPEPDATSVENVAEKTGSGDSQSDPIKADLEVKGQSALPFDVD...</td>\n",
       "      <td>8</td>\n",
       "      <td>Novozymes</td>\n",
       "    </tr>\n",
       "    <tr>\n",
       "      <th>1</th>\n",
       "      <td>31391</td>\n",
       "      <td>VPVNPEPDATSVENVAKKTGSGDSQSDPIKADLEVKGQSALPFDVD...</td>\n",
       "      <td>8</td>\n",
       "      <td>Novozymes</td>\n",
       "    </tr>\n",
       "    <tr>\n",
       "      <th>2</th>\n",
       "      <td>31392</td>\n",
       "      <td>VPVNPEPDATSVENVAKTGSGDSQSDPIKADLEVKGQSALPFDVDC...</td>\n",
       "      <td>8</td>\n",
       "      <td>Novozymes</td>\n",
       "    </tr>\n",
       "    <tr>\n",
       "      <th>3</th>\n",
       "      <td>31393</td>\n",
       "      <td>VPVNPEPDATSVENVALCTGSGDSQSDPIKADLEVKGQSALPFDVD...</td>\n",
       "      <td>8</td>\n",
       "      <td>Novozymes</td>\n",
       "    </tr>\n",
       "    <tr>\n",
       "      <th>4</th>\n",
       "      <td>31394</td>\n",
       "      <td>VPVNPEPDATSVENVALFTGSGDSQSDPIKADLEVKGQSALPFDVD...</td>\n",
       "      <td>8</td>\n",
       "      <td>Novozymes</td>\n",
       "    </tr>\n",
       "  </tbody>\n",
       "</table>\n",
       "</div>"
      ],
      "text/plain": [
       "   seq_id                                   protein_sequence  pH data_source\n",
       "0   31390  VPVNPEPDATSVENVAEKTGSGDSQSDPIKADLEVKGQSALPFDVD...   8   Novozymes\n",
       "1   31391  VPVNPEPDATSVENVAKKTGSGDSQSDPIKADLEVKGQSALPFDVD...   8   Novozymes\n",
       "2   31392  VPVNPEPDATSVENVAKTGSGDSQSDPIKADLEVKGQSALPFDVDC...   8   Novozymes\n",
       "3   31393  VPVNPEPDATSVENVALCTGSGDSQSDPIKADLEVKGQSALPFDVD...   8   Novozymes\n",
       "4   31394  VPVNPEPDATSVENVALFTGSGDSQSDPIKADLEVKGQSALPFDVD...   8   Novozymes"
      ]
     },
     "execution_count": 4,
     "metadata": {},
     "output_type": "execute_result"
    }
   ],
   "source": [
    "#First Five Rows of DataFrame\n",
    "test.head()"
   ]
  },
  {
   "cell_type": "code",
   "execution_count": 5,
   "id": "b2007ef0",
   "metadata": {
    "execution": {
     "iopub.execute_input": "2024-07-20T09:16:27.374099Z",
     "iopub.status.busy": "2024-07-20T09:16:27.373729Z",
     "iopub.status.idle": "2024-07-20T09:16:27.395013Z",
     "shell.execute_reply": "2024-07-20T09:16:27.393613Z"
    },
    "papermill": {
     "duration": 0.035579,
     "end_time": "2024-07-20T09:16:27.397488",
     "exception": false,
     "start_time": "2024-07-20T09:16:27.361909",
     "status": "completed"
    },
    "tags": []
   },
   "outputs": [
    {
     "name": "stdout",
     "output_type": "stream",
     "text": [
      "<class 'pandas.core.frame.DataFrame'>\n",
      "RangeIndex: 2413 entries, 0 to 2412\n",
      "Data columns (total 4 columns):\n",
      " #   Column            Non-Null Count  Dtype \n",
      "---  ------            --------------  ----- \n",
      " 0   seq_id            2413 non-null   int64 \n",
      " 1   protein_sequence  2413 non-null   object\n",
      " 2   pH                2413 non-null   int64 \n",
      " 3   data_source       2413 non-null   object\n",
      "dtypes: int64(2), object(2)\n",
      "memory usage: 75.5+ KB\n"
     ]
    }
   ],
   "source": [
    "#Getting Information of DataFrame\n",
    "test.info()"
   ]
  },
  {
   "cell_type": "code",
   "execution_count": 6,
   "id": "d6284542",
   "metadata": {
    "execution": {
     "iopub.execute_input": "2024-07-20T09:16:27.420311Z",
     "iopub.status.busy": "2024-07-20T09:16:27.419894Z",
     "iopub.status.idle": "2024-07-20T09:16:27.439487Z",
     "shell.execute_reply": "2024-07-20T09:16:27.438470Z"
    },
    "papermill": {
     "duration": 0.033858,
     "end_time": "2024-07-20T09:16:27.441981",
     "exception": false,
     "start_time": "2024-07-20T09:16:27.408123",
     "status": "completed"
    },
    "tags": []
   },
   "outputs": [
    {
     "data": {
      "text/html": [
       "<div>\n",
       "<style scoped>\n",
       "    .dataframe tbody tr th:only-of-type {\n",
       "        vertical-align: middle;\n",
       "    }\n",
       "\n",
       "    .dataframe tbody tr th {\n",
       "        vertical-align: top;\n",
       "    }\n",
       "\n",
       "    .dataframe thead th {\n",
       "        text-align: right;\n",
       "    }\n",
       "</style>\n",
       "<table border=\"1\" class=\"dataframe\">\n",
       "  <thead>\n",
       "    <tr style=\"text-align: right;\">\n",
       "      <th></th>\n",
       "      <th>seq_id</th>\n",
       "      <th>pH</th>\n",
       "    </tr>\n",
       "  </thead>\n",
       "  <tbody>\n",
       "    <tr>\n",
       "      <th>count</th>\n",
       "      <td>2413.000000</td>\n",
       "      <td>2413.0</td>\n",
       "    </tr>\n",
       "    <tr>\n",
       "      <th>mean</th>\n",
       "      <td>32596.000000</td>\n",
       "      <td>8.0</td>\n",
       "    </tr>\n",
       "    <tr>\n",
       "      <th>std</th>\n",
       "      <td>696.717422</td>\n",
       "      <td>0.0</td>\n",
       "    </tr>\n",
       "    <tr>\n",
       "      <th>min</th>\n",
       "      <td>31390.000000</td>\n",
       "      <td>8.0</td>\n",
       "    </tr>\n",
       "    <tr>\n",
       "      <th>25%</th>\n",
       "      <td>31993.000000</td>\n",
       "      <td>8.0</td>\n",
       "    </tr>\n",
       "    <tr>\n",
       "      <th>50%</th>\n",
       "      <td>32596.000000</td>\n",
       "      <td>8.0</td>\n",
       "    </tr>\n",
       "    <tr>\n",
       "      <th>75%</th>\n",
       "      <td>33199.000000</td>\n",
       "      <td>8.0</td>\n",
       "    </tr>\n",
       "    <tr>\n",
       "      <th>max</th>\n",
       "      <td>33802.000000</td>\n",
       "      <td>8.0</td>\n",
       "    </tr>\n",
       "  </tbody>\n",
       "</table>\n",
       "</div>"
      ],
      "text/plain": [
       "             seq_id      pH\n",
       "count   2413.000000  2413.0\n",
       "mean   32596.000000     8.0\n",
       "std      696.717422     0.0\n",
       "min    31390.000000     8.0\n",
       "25%    31993.000000     8.0\n",
       "50%    32596.000000     8.0\n",
       "75%    33199.000000     8.0\n",
       "max    33802.000000     8.0"
      ]
     },
     "execution_count": 6,
     "metadata": {},
     "output_type": "execute_result"
    }
   ],
   "source": [
    "#Summary Satistics\n",
    "test.describe()"
   ]
  },
  {
   "cell_type": "code",
   "execution_count": 7,
   "id": "c514d037",
   "metadata": {
    "execution": {
     "iopub.execute_input": "2024-07-20T09:16:27.465953Z",
     "iopub.status.busy": "2024-07-20T09:16:27.465549Z",
     "iopub.status.idle": "2024-07-20T09:16:27.472273Z",
     "shell.execute_reply": "2024-07-20T09:16:27.471085Z"
    },
    "papermill": {
     "duration": 0.021797,
     "end_time": "2024-07-20T09:16:27.474485",
     "exception": false,
     "start_time": "2024-07-20T09:16:27.452688",
     "status": "completed"
    },
    "tags": []
   },
   "outputs": [
    {
     "data": {
      "text/plain": [
       "(2413, 4)"
      ]
     },
     "execution_count": 7,
     "metadata": {},
     "output_type": "execute_result"
    }
   ],
   "source": [
    "#Geting shape of the DataFrame\n",
    "test.shape"
   ]
  },
  {
   "cell_type": "code",
   "execution_count": 8,
   "id": "9eca35a0",
   "metadata": {
    "execution": {
     "iopub.execute_input": "2024-07-20T09:16:27.498301Z",
     "iopub.status.busy": "2024-07-20T09:16:27.497314Z",
     "iopub.status.idle": "2024-07-20T09:16:27.504555Z",
     "shell.execute_reply": "2024-07-20T09:16:27.503387Z"
    },
    "papermill": {
     "duration": 0.021748,
     "end_time": "2024-07-20T09:16:27.507048",
     "exception": false,
     "start_time": "2024-07-20T09:16:27.485300",
     "status": "completed"
    },
    "tags": []
   },
   "outputs": [
    {
     "name": "stdout",
     "output_type": "stream",
     "text": [
      "seq_id              0\n",
      "protein_sequence    0\n",
      "pH                  0\n",
      "data_source         0\n",
      "dtype: int64\n"
     ]
    }
   ],
   "source": [
    "#Checking for missing values\n",
    "print(test.isnull().sum())"
   ]
  },
  {
   "cell_type": "code",
   "execution_count": 9,
   "id": "3621c442",
   "metadata": {
    "execution": {
     "iopub.execute_input": "2024-07-20T09:16:27.531303Z",
     "iopub.status.busy": "2024-07-20T09:16:27.530142Z",
     "iopub.status.idle": "2024-07-20T09:16:27.542704Z",
     "shell.execute_reply": "2024-07-20T09:16:27.541705Z"
    },
    "papermill": {
     "duration": 0.027013,
     "end_time": "2024-07-20T09:16:27.544915",
     "exception": false,
     "start_time": "2024-07-20T09:16:27.517902",
     "status": "completed"
    },
    "tags": []
   },
   "outputs": [
    {
     "data": {
      "text/html": [
       "<div>\n",
       "<style scoped>\n",
       "    .dataframe tbody tr th:only-of-type {\n",
       "        vertical-align: middle;\n",
       "    }\n",
       "\n",
       "    .dataframe tbody tr th {\n",
       "        vertical-align: top;\n",
       "    }\n",
       "\n",
       "    .dataframe thead th {\n",
       "        text-align: right;\n",
       "    }\n",
       "</style>\n",
       "<table border=\"1\" class=\"dataframe\">\n",
       "  <thead>\n",
       "    <tr style=\"text-align: right;\">\n",
       "      <th></th>\n",
       "      <th>seq_id</th>\n",
       "      <th>protein_sequence</th>\n",
       "      <th>pH</th>\n",
       "      <th>data_source</th>\n",
       "      <th>tm</th>\n",
       "    </tr>\n",
       "  </thead>\n",
       "  <tbody>\n",
       "    <tr>\n",
       "      <th>0</th>\n",
       "      <td>0</td>\n",
       "      <td>AAAAKAAALALLGEAPEVVDIWLPAGWRQPFRVFRLERKGDGVLVG...</td>\n",
       "      <td>7.0</td>\n",
       "      <td>doi.org/10.1038/s41592-020-0801-4</td>\n",
       "      <td>75.7</td>\n",
       "    </tr>\n",
       "    <tr>\n",
       "      <th>1</th>\n",
       "      <td>1</td>\n",
       "      <td>AAADGEPLHNEEERAGAGQVGRSLPQESEEQRTGSRPRRRRDLGSR...</td>\n",
       "      <td>7.0</td>\n",
       "      <td>doi.org/10.1038/s41592-020-0801-4</td>\n",
       "      <td>50.5</td>\n",
       "    </tr>\n",
       "    <tr>\n",
       "      <th>2</th>\n",
       "      <td>2</td>\n",
       "      <td>AAAFSTPRATSYRILSSAGSGSTRADAPQVRRLHTTRDLLAKDYYA...</td>\n",
       "      <td>7.0</td>\n",
       "      <td>doi.org/10.1038/s41592-020-0801-4</td>\n",
       "      <td>40.5</td>\n",
       "    </tr>\n",
       "    <tr>\n",
       "      <th>3</th>\n",
       "      <td>3</td>\n",
       "      <td>AAASGLRTAIPAQPLRHLLQPAPRPCLRPFGLLSVRAGSARRSGLL...</td>\n",
       "      <td>7.0</td>\n",
       "      <td>doi.org/10.1038/s41592-020-0801-4</td>\n",
       "      <td>47.2</td>\n",
       "    </tr>\n",
       "    <tr>\n",
       "      <th>4</th>\n",
       "      <td>4</td>\n",
       "      <td>AAATKSGPRRQSQGASVRTFTPFYFLVEPVDTLSVRGSSVILNCSA...</td>\n",
       "      <td>7.0</td>\n",
       "      <td>doi.org/10.1038/s41592-020-0801-4</td>\n",
       "      <td>49.5</td>\n",
       "    </tr>\n",
       "  </tbody>\n",
       "</table>\n",
       "</div>"
      ],
      "text/plain": [
       "   seq_id                                   protein_sequence   pH  \\\n",
       "0       0  AAAAKAAALALLGEAPEVVDIWLPAGWRQPFRVFRLERKGDGVLVG...  7.0   \n",
       "1       1  AAADGEPLHNEEERAGAGQVGRSLPQESEEQRTGSRPRRRRDLGSR...  7.0   \n",
       "2       2  AAAFSTPRATSYRILSSAGSGSTRADAPQVRRLHTTRDLLAKDYYA...  7.0   \n",
       "3       3  AAASGLRTAIPAQPLRHLLQPAPRPCLRPFGLLSVRAGSARRSGLL...  7.0   \n",
       "4       4  AAATKSGPRRQSQGASVRTFTPFYFLVEPVDTLSVRGSSVILNCSA...  7.0   \n",
       "\n",
       "                         data_source    tm  \n",
       "0  doi.org/10.1038/s41592-020-0801-4  75.7  \n",
       "1  doi.org/10.1038/s41592-020-0801-4  50.5  \n",
       "2  doi.org/10.1038/s41592-020-0801-4  40.5  \n",
       "3  doi.org/10.1038/s41592-020-0801-4  47.2  \n",
       "4  doi.org/10.1038/s41592-020-0801-4  49.5  "
      ]
     },
     "execution_count": 9,
     "metadata": {},
     "output_type": "execute_result"
    }
   ],
   "source": [
    "#First Five Rows of DataFrame\n",
    "train.head()"
   ]
  },
  {
   "cell_type": "code",
   "execution_count": 10,
   "id": "9d15affd",
   "metadata": {
    "execution": {
     "iopub.execute_input": "2024-07-20T09:16:27.568702Z",
     "iopub.status.busy": "2024-07-20T09:16:27.568328Z",
     "iopub.status.idle": "2024-07-20T09:16:27.585288Z",
     "shell.execute_reply": "2024-07-20T09:16:27.584140Z"
    },
    "papermill": {
     "duration": 0.031546,
     "end_time": "2024-07-20T09:16:27.587616",
     "exception": false,
     "start_time": "2024-07-20T09:16:27.556070",
     "status": "completed"
    },
    "tags": []
   },
   "outputs": [
    {
     "name": "stdout",
     "output_type": "stream",
     "text": [
      "<class 'pandas.core.frame.DataFrame'>\n",
      "RangeIndex: 31390 entries, 0 to 31389\n",
      "Data columns (total 5 columns):\n",
      " #   Column            Non-Null Count  Dtype  \n",
      "---  ------            --------------  -----  \n",
      " 0   seq_id            31390 non-null  int64  \n",
      " 1   protein_sequence  31390 non-null  object \n",
      " 2   pH                31104 non-null  float64\n",
      " 3   data_source       28043 non-null  object \n",
      " 4   tm                31390 non-null  float64\n",
      "dtypes: float64(2), int64(1), object(2)\n",
      "memory usage: 1.2+ MB\n"
     ]
    }
   ],
   "source": [
    "#Getting Information of DataFrame\n",
    "train.info()"
   ]
  },
  {
   "cell_type": "code",
   "execution_count": 11,
   "id": "69b61b4c",
   "metadata": {
    "execution": {
     "iopub.execute_input": "2024-07-20T09:16:27.611527Z",
     "iopub.status.busy": "2024-07-20T09:16:27.611128Z",
     "iopub.status.idle": "2024-07-20T09:16:27.632353Z",
     "shell.execute_reply": "2024-07-20T09:16:27.631197Z"
    },
    "papermill": {
     "duration": 0.035831,
     "end_time": "2024-07-20T09:16:27.634641",
     "exception": false,
     "start_time": "2024-07-20T09:16:27.598810",
     "status": "completed"
    },
    "tags": []
   },
   "outputs": [
    {
     "data": {
      "text/html": [
       "<div>\n",
       "<style scoped>\n",
       "    .dataframe tbody tr th:only-of-type {\n",
       "        vertical-align: middle;\n",
       "    }\n",
       "\n",
       "    .dataframe tbody tr th {\n",
       "        vertical-align: top;\n",
       "    }\n",
       "\n",
       "    .dataframe thead th {\n",
       "        text-align: right;\n",
       "    }\n",
       "</style>\n",
       "<table border=\"1\" class=\"dataframe\">\n",
       "  <thead>\n",
       "    <tr style=\"text-align: right;\">\n",
       "      <th></th>\n",
       "      <th>seq_id</th>\n",
       "      <th>pH</th>\n",
       "      <th>tm</th>\n",
       "    </tr>\n",
       "  </thead>\n",
       "  <tbody>\n",
       "    <tr>\n",
       "      <th>count</th>\n",
       "      <td>31390.000000</td>\n",
       "      <td>31104.000000</td>\n",
       "      <td>31390.000000</td>\n",
       "    </tr>\n",
       "    <tr>\n",
       "      <th>mean</th>\n",
       "      <td>15694.500000</td>\n",
       "      <td>6.892339</td>\n",
       "      <td>49.147337</td>\n",
       "    </tr>\n",
       "    <tr>\n",
       "      <th>std</th>\n",
       "      <td>9061.656811</td>\n",
       "      <td>1.612225</td>\n",
       "      <td>14.010089</td>\n",
       "    </tr>\n",
       "    <tr>\n",
       "      <th>min</th>\n",
       "      <td>0.000000</td>\n",
       "      <td>1.990000</td>\n",
       "      <td>-1.000000</td>\n",
       "    </tr>\n",
       "    <tr>\n",
       "      <th>25%</th>\n",
       "      <td>7847.250000</td>\n",
       "      <td>7.000000</td>\n",
       "      <td>42.100000</td>\n",
       "    </tr>\n",
       "    <tr>\n",
       "      <th>50%</th>\n",
       "      <td>15694.500000</td>\n",
       "      <td>7.000000</td>\n",
       "      <td>48.000000</td>\n",
       "    </tr>\n",
       "    <tr>\n",
       "      <th>75%</th>\n",
       "      <td>23541.750000</td>\n",
       "      <td>7.000000</td>\n",
       "      <td>53.800000</td>\n",
       "    </tr>\n",
       "    <tr>\n",
       "      <th>max</th>\n",
       "      <td>31389.000000</td>\n",
       "      <td>64.900000</td>\n",
       "      <td>130.000000</td>\n",
       "    </tr>\n",
       "  </tbody>\n",
       "</table>\n",
       "</div>"
      ],
      "text/plain": [
       "             seq_id            pH            tm\n",
       "count  31390.000000  31104.000000  31390.000000\n",
       "mean   15694.500000      6.892339     49.147337\n",
       "std     9061.656811      1.612225     14.010089\n",
       "min        0.000000      1.990000     -1.000000\n",
       "25%     7847.250000      7.000000     42.100000\n",
       "50%    15694.500000      7.000000     48.000000\n",
       "75%    23541.750000      7.000000     53.800000\n",
       "max    31389.000000     64.900000    130.000000"
      ]
     },
     "execution_count": 11,
     "metadata": {},
     "output_type": "execute_result"
    }
   ],
   "source": [
    "#Summary Satistics\n",
    "train.describe()"
   ]
  },
  {
   "cell_type": "code",
   "execution_count": 12,
   "id": "38e47c8e",
   "metadata": {
    "execution": {
     "iopub.execute_input": "2024-07-20T09:16:27.659024Z",
     "iopub.status.busy": "2024-07-20T09:16:27.658615Z",
     "iopub.status.idle": "2024-07-20T09:16:27.665201Z",
     "shell.execute_reply": "2024-07-20T09:16:27.664011Z"
    },
    "papermill": {
     "duration": 0.021336,
     "end_time": "2024-07-20T09:16:27.667461",
     "exception": false,
     "start_time": "2024-07-20T09:16:27.646125",
     "status": "completed"
    },
    "tags": []
   },
   "outputs": [
    {
     "data": {
      "text/plain": [
       "(31390, 5)"
      ]
     },
     "execution_count": 12,
     "metadata": {},
     "output_type": "execute_result"
    }
   ],
   "source": [
    "#Geting shape of the DataFrame\n",
    "train.shape"
   ]
  },
  {
   "cell_type": "code",
   "execution_count": 13,
   "id": "02a7d736",
   "metadata": {
    "execution": {
     "iopub.execute_input": "2024-07-20T09:16:27.692239Z",
     "iopub.status.busy": "2024-07-20T09:16:27.691814Z",
     "iopub.status.idle": "2024-07-20T09:16:27.704223Z",
     "shell.execute_reply": "2024-07-20T09:16:27.702973Z"
    },
    "papermill": {
     "duration": 0.027632,
     "end_time": "2024-07-20T09:16:27.706846",
     "exception": false,
     "start_time": "2024-07-20T09:16:27.679214",
     "status": "completed"
    },
    "tags": []
   },
   "outputs": [
    {
     "name": "stdout",
     "output_type": "stream",
     "text": [
      "seq_id                 0\n",
      "protein_sequence       0\n",
      "pH                   286\n",
      "data_source         3347\n",
      "tm                     0\n",
      "dtype: int64\n"
     ]
    }
   ],
   "source": [
    "#Checking for missing values\n",
    "print(train.isnull().sum())"
   ]
  },
  {
   "cell_type": "markdown",
   "id": "eb48b627",
   "metadata": {
    "papermill": {
     "duration": 0.011311,
     "end_time": "2024-07-20T09:16:27.729793",
     "exception": false,
     "start_time": "2024-07-20T09:16:27.718482",
     "status": "completed"
    },
    "tags": []
   },
   "source": [
    "# **Data Preprocessing**\n",
    "# Handling Missing Values (Imputation)"
   ]
  },
  {
   "cell_type": "markdown",
   "id": "01a84da7",
   "metadata": {
    "papermill": {
     "duration": 0.011438,
     "end_time": "2024-07-20T09:16:27.752934",
     "exception": false,
     "start_time": "2024-07-20T09:16:27.741496",
     "status": "completed"
    },
    "tags": []
   },
   "source": [
    "By visualizing the distribution of the pH values, you can see if the data is normally distributed, skewed, or has outliers. Knowing the distribution helps in deciding whether to use the mean, median, or mode to impute missing values."
   ]
  },
  {
   "cell_type": "code",
   "execution_count": 14,
   "id": "766a925d",
   "metadata": {
    "execution": {
     "iopub.execute_input": "2024-07-20T09:16:27.778649Z",
     "iopub.status.busy": "2024-07-20T09:16:27.778263Z",
     "iopub.status.idle": "2024-07-20T09:16:28.364161Z",
     "shell.execute_reply": "2024-07-20T09:16:28.363151Z"
    },
    "papermill": {
     "duration": 0.601638,
     "end_time": "2024-07-20T09:16:28.366699",
     "exception": false,
     "start_time": "2024-07-20T09:16:27.765061",
     "status": "completed"
    },
    "tags": []
   },
   "outputs": [
    {
     "name": "stderr",
     "output_type": "stream",
     "text": [
      "/opt/conda/lib/python3.10/site-packages/seaborn/_oldcore.py:1119: FutureWarning: use_inf_as_na option is deprecated and will be removed in a future version. Convert inf values to NaN before operating instead.\n",
      "  with pd.option_context('mode.use_inf_as_na', True):\n"
     ]
    },
    {
     "data": {
      "image/png": "[encoded data removed]",
      "text/plain": [
       "<Figure size 800x800 with 1 Axes>"
      ]
     },
     "metadata": {},
     "output_type": "display_data"
    }
   ],
   "source": [
    "#Analyzing the distribution of data in the pH column\n",
    "#Using this method as it will help us in choosing the most optimal value among mean, median or mode. \n",
    "# Plotting the distribution of the pH column\n",
    "fig, ax = plt.subplots(figsize=(8,8))\n",
    "sns.histplot(train['pH'], kde=True, ax=ax)\n",
    "\n",
    "# Adding title and labels for better understanding\n",
    "ax.set_title('Distribution of pH Values in Training Data')\n",
    "ax.set_xlabel('pH')\n",
    "ax.set_ylabel('Frequency')\n",
    "\n",
    "plt.show()\n"
   ]
  },
  {
   "cell_type": "code",
   "execution_count": 15,
   "id": "36a28f5c",
   "metadata": {
    "execution": {
     "iopub.execute_input": "2024-07-20T09:16:28.392721Z",
     "iopub.status.busy": "2024-07-20T09:16:28.392340Z",
     "iopub.status.idle": "2024-07-20T09:16:28.399158Z",
     "shell.execute_reply": "2024-07-20T09:16:28.398143Z"
    },
    "papermill": {
     "duration": 0.022473,
     "end_time": "2024-07-20T09:16:28.401384",
     "exception": false,
     "start_time": "2024-07-20T09:16:28.378911",
     "status": "completed"
    },
    "tags": []
   },
   "outputs": [
    {
     "name": "stderr",
     "output_type": "stream",
     "text": [
      "/tmp/ipykernel_18/3020659967.py:2: FutureWarning: A value is trying to be set on a copy of a DataFrame or Series through chained assignment using an inplace method.\n",
      "The behavior will change in pandas 3.0. This inplace method will never work because the intermediate object on which we are setting values always behaves as a copy.\n",
      "\n",
      "For example, when doing 'df[col].method(value, inplace=True)', try using 'df.method({col: value}, inplace=True)' or df[col] = df[col].method(value) instead, to perform the operation inplace on the original object.\n",
      "\n",
      "\n",
      "  train['pH'].fillna(train['pH'].mean(),inplace=True)\n"
     ]
    }
   ],
   "source": [
    "#Replacing missing values with mean\n",
    "train['pH'].fillna(train['pH'].mean(),inplace=True)"
   ]
  },
  {
   "cell_type": "code",
   "execution_count": 16,
   "id": "6c1e9d90",
   "metadata": {
    "execution": {
     "iopub.execute_input": "2024-07-20T09:16:28.427591Z",
     "iopub.status.busy": "2024-07-20T09:16:28.427205Z",
     "iopub.status.idle": "2024-07-20T09:16:28.434979Z",
     "shell.execute_reply": "2024-07-20T09:16:28.434053Z"
    },
    "papermill": {
     "duration": 0.023273,
     "end_time": "2024-07-20T09:16:28.437056",
     "exception": false,
     "start_time": "2024-07-20T09:16:28.413783",
     "status": "completed"
    },
    "tags": []
   },
   "outputs": [
    {
     "name": "stderr",
     "output_type": "stream",
     "text": [
      "/tmp/ipykernel_18/2789782904.py:2: FutureWarning: A value is trying to be set on a copy of a DataFrame or Series through chained assignment using an inplace method.\n",
      "The behavior will change in pandas 3.0. This inplace method will never work because the intermediate object on which we are setting values always behaves as a copy.\n",
      "\n",
      "For example, when doing 'df[col].method(value, inplace=True)', try using 'df.method({col: value}, inplace=True)' or df[col] = df[col].method(value) instead, to perform the operation inplace on the original object.\n",
      "\n",
      "\n",
      "  train['data_source'].fillna('Unknown', inplace=True)\n"
     ]
    }
   ],
   "source": [
    "#Replacing missing values with Unknown\n",
    "train['data_source'].fillna('Unknown', inplace=True)\n"
   ]
  },
  {
   "cell_type": "code",
   "execution_count": 17,
   "id": "c1846751",
   "metadata": {
    "execution": {
     "iopub.execute_input": "2024-07-20T09:16:28.522324Z",
     "iopub.status.busy": "2024-07-20T09:16:28.521908Z",
     "iopub.status.idle": "2024-07-20T09:16:28.534549Z",
     "shell.execute_reply": "2024-07-20T09:16:28.533378Z"
    },
    "papermill": {
     "duration": 0.028394,
     "end_time": "2024-07-20T09:16:28.536783",
     "exception": false,
     "start_time": "2024-07-20T09:16:28.508389",
     "status": "completed"
    },
    "tags": []
   },
   "outputs": [
    {
     "name": "stdout",
     "output_type": "stream",
     "text": [
      "seq_id              0\n",
      "protein_sequence    0\n",
      "pH                  0\n",
      "data_source         0\n",
      "tm                  0\n",
      "dtype: int64\n"
     ]
    }
   ],
   "source": [
    "#Checking for null values\n",
    "print(train.isnull().sum())"
   ]
  },
  {
   "cell_type": "markdown",
   "id": "b81f3f6f",
   "metadata": {
    "papermill": {
     "duration": 0.012275,
     "end_time": "2024-07-20T09:16:28.561662",
     "exception": false,
     "start_time": "2024-07-20T09:16:28.549387",
     "status": "completed"
    },
    "tags": []
   },
   "source": [
    "# Feature Extraction\n",
    "Turning raw data (protein sequences) into numerical features (amino acid composition) that can be used for further analysis or machine learning models."
   ]
  },
  {
   "cell_type": "code",
   "execution_count": 18,
   "id": "32ed83c4",
   "metadata": {
    "execution": {
     "iopub.execute_input": "2024-07-20T09:16:28.588278Z",
     "iopub.status.busy": "2024-07-20T09:16:28.587898Z",
     "iopub.status.idle": "2024-07-20T09:16:29.590619Z",
     "shell.execute_reply": "2024-07-20T09:16:29.589451Z"
    },
    "papermill": {
     "duration": 1.018972,
     "end_time": "2024-07-20T09:16:29.593284",
     "exception": false,
     "start_time": "2024-07-20T09:16:28.574312",
     "status": "completed"
    },
    "tags": []
   },
   "outputs": [],
   "source": [
    "from Bio.SeqUtils.ProtParam import ProteinAnalysis\n",
    "\n",
    "# Function to calculate amino acid composition\n",
    "def calculate_aac(sequence):\n",
    "    # Analyze the sequence to get amino acid percentages\n",
    "    analysis = ProteinAnalysis(sequence)\n",
    "    return analysis.get_amino_acids_percent()\n",
    "\n",
    "# Apply the function to calculate AAC for each protein sequence in the training data\n",
    "train['aac'] = train['protein_sequence'].apply(calculate_aac)\n",
    "# Apply the function to calculate AAC for each protein sequence in the testing data\n",
    "test['aac'] = test['protein_sequence'].apply(calculate_aac)\n",
    "\n",
    "# Convert the AAC data into separate columns for each amino acid\n",
    "aac_train_df = pd.DataFrame(train['aac'].tolist()).fillna(0)\n",
    "aac_test_df = pd.DataFrame(test['aac'].tolist()).fillna(0)\n",
    "\n",
    "# Combine the new AAC features with the rest of the training data\n",
    "train_combined = pd.concat([train.drop(columns=['protein_sequence', 'aac']), aac_train_df], axis=1)\n",
    "# Combine the new AAC features with the rest of the testing data\n",
    "test_combined = pd.concat([test.drop(columns=['protein_sequence', 'aac']), aac_test_df], axis=1)\n"
   ]
  },
  {
   "cell_type": "markdown",
   "id": "afc15f8a",
   "metadata": {
    "papermill": {
     "duration": 0.013176,
     "end_time": "2024-07-20T09:16:29.619102",
     "exception": false,
     "start_time": "2024-07-20T09:16:29.605926",
     "status": "completed"
    },
    "tags": []
   },
   "source": [
    "# Encoding categorical variables using OneHotEncoder\n",
    "This is a technique used to convert categorical data (like names of data sources) into a numerical format that machine learning models can understand. Each unique category gets its own column with a 1 or 0 indicating its presence."
   ]
  },
  {
   "cell_type": "code",
   "execution_count": 19,
   "id": "efef6498",
   "metadata": {
    "execution": {
     "iopub.execute_input": "2024-07-20T09:16:29.645853Z",
     "iopub.status.busy": "2024-07-20T09:16:29.645448Z",
     "iopub.status.idle": "2024-07-20T09:16:29.785883Z",
     "shell.execute_reply": "2024-07-20T09:16:29.784781Z"
    },
    "papermill": {
     "duration": 0.156611,
     "end_time": "2024-07-20T09:16:29.788372",
     "exception": false,
     "start_time": "2024-07-20T09:16:29.631761",
     "status": "completed"
    },
    "tags": []
   },
   "outputs": [],
   "source": [
    "from sklearn.preprocessing import OneHotEncoder\n",
    "\n",
    "# Initialize OneHotEncoder to handle unknown categories and output as a DataFrame\n",
    "ohe = OneHotEncoder(handle_unknown='ignore', sparse_output=False).set_output(transform=\"pandas\")\n",
    "\n",
    "# Fit and transform the 'data_source' column from the training data\n",
    "train_source_encoded = ohe.fit_transform(train[['data_source']])\n",
    "# Transform the 'data_source' column from the test data (no need to fit again)\n",
    "test_source_encoded = ohe.transform(test[['data_source']])"
   ]
  },
  {
   "cell_type": "markdown",
   "id": "10c09e29",
   "metadata": {
    "papermill": {
     "duration": 0.01299,
     "end_time": "2024-07-20T09:16:29.813937",
     "exception": false,
     "start_time": "2024-07-20T09:16:29.800947",
     "status": "completed"
    },
    "tags": []
   },
   "source": [
    "# Data Preparation: \n",
    "After encoding the categorical data, you combine it with other features you’ve extracted, such as amino acid composition. This creates a final dataset that’s ready for analysis or modeling."
   ]
  },
  {
   "cell_type": "code",
   "execution_count": 20,
   "id": "f00b2646",
   "metadata": {
    "execution": {
     "iopub.execute_input": "2024-07-20T09:16:29.840602Z",
     "iopub.status.busy": "2024-07-20T09:16:29.840202Z",
     "iopub.status.idle": "2024-07-20T09:16:30.029534Z",
     "shell.execute_reply": "2024-07-20T09:16:30.028331Z"
    },
    "papermill": {
     "duration": 0.205613,
     "end_time": "2024-07-20T09:16:30.032165",
     "exception": false,
     "start_time": "2024-07-20T09:16:29.826552",
     "status": "completed"
    },
    "tags": []
   },
   "outputs": [],
   "source": [
    "# Combine the encoded 'data_source' with the amino acid composition features for training data\n",
    "train_final = pd.concat([train_source_encoded.reset_index(drop=True), aac_train_df.reset_index(drop=True)], axis=1)\n",
    "# Combine the encoded 'data_source' with the amino acid composition features for testing data\n",
    "test_final = pd.concat([test_source_encoded.reset_index(drop=True), aac_test_df.reset_index(drop=True)], axis=1)\n",
    "\n",
    "# Ensure the target variable ('tm') is included in the training data\n",
    "train_final['tm'] = train['tm']"
   ]
  },
  {
   "cell_type": "markdown",
   "id": "cee76a6c",
   "metadata": {
    "papermill": {
     "duration": 0.012173,
     "end_time": "2024-07-20T09:16:30.056888",
     "exception": false,
     "start_time": "2024-07-20T09:16:30.044715",
     "status": "completed"
    },
    "tags": []
   },
   "source": [
    "# **Model Training and Evaluation**\n",
    "# Define features (X) and target variable (y)\n"
   ]
  },
  {
   "cell_type": "code",
   "execution_count": 21,
   "id": "c9774901",
   "metadata": {
    "execution": {
     "iopub.execute_input": "2024-07-20T09:16:30.083212Z",
     "iopub.status.busy": "2024-07-20T09:16:30.082796Z",
     "iopub.status.idle": "2024-07-20T09:16:30.473480Z",
     "shell.execute_reply": "2024-07-20T09:16:30.472242Z"
    },
    "papermill": {
     "duration": 0.407531,
     "end_time": "2024-07-20T09:16:30.476908",
     "exception": false,
     "start_time": "2024-07-20T09:16:30.069377",
     "status": "completed"
    },
    "tags": []
   },
   "outputs": [],
   "source": [
    "from sklearn.ensemble import RandomForestRegressor\n",
    "from sklearn.model_selection import train_test_split\n",
    "from sklearn.metrics import mean_squared_error, mean_absolute_error, r2_score\n",
    "import joblib\n",
    "\n",
    "# Define X and y\n",
    "X = train_final.drop(columns=['tm'])      # All columns except 'tm' are features\n",
    "y = train_final['tm']                     # 'tm' is the target variable we want to predict"
   ]
  },
  {
   "cell_type": "markdown",
   "id": "c16f43d5",
   "metadata": {
    "papermill": {
     "duration": 0.012437,
     "end_time": "2024-07-20T09:16:30.502119",
     "exception": false,
     "start_time": "2024-07-20T09:16:30.489682",
     "status": "completed"
    },
    "tags": []
   },
   "source": [
    "# Splitting the Data"
   ]
  },
  {
   "cell_type": "code",
   "execution_count": 22,
   "id": "73f719cb",
   "metadata": {
    "execution": {
     "iopub.execute_input": "2024-07-20T09:16:30.529012Z",
     "iopub.status.busy": "2024-07-20T09:16:30.528582Z",
     "iopub.status.idle": "2024-07-20T09:16:30.617827Z",
     "shell.execute_reply": "2024-07-20T09:16:30.616765Z"
    },
    "papermill": {
     "duration": 0.105744,
     "end_time": "2024-07-20T09:16:30.620426",
     "exception": false,
     "start_time": "2024-07-20T09:16:30.514682",
     "status": "completed"
    },
    "tags": []
   },
   "outputs": [],
   "source": [
    "# Split the data into two parts: one for training and one for validation\n",
    "X_train, X_val, y_train, y_val = train_test_split(X, y, test_size=0.2, random_state=42)\n"
   ]
  },
  {
   "cell_type": "markdown",
   "id": "8d741025",
   "metadata": {
    "papermill": {
     "duration": 0.012213,
     "end_time": "2024-07-20T09:16:30.645217",
     "exception": false,
     "start_time": "2024-07-20T09:16:30.633004",
     "status": "completed"
    },
    "tags": []
   },
   "source": [
    "# Training the Model\n",
    "The data is split into training and validation sets to evaluate the model's performance on unseen data. The Random Forest model is chosen for its robustness and ability to handle a large number of features."
   ]
  },
  {
   "cell_type": "code",
   "execution_count": 23,
   "id": "4bacad3b",
   "metadata": {
    "execution": {
     "iopub.execute_input": "2024-07-20T09:16:30.671996Z",
     "iopub.status.busy": "2024-07-20T09:16:30.671610Z",
     "iopub.status.idle": "2024-07-20T09:17:58.241092Z",
     "shell.execute_reply": "2024-07-20T09:17:58.239883Z"
    },
    "papermill": {
     "duration": 87.598332,
     "end_time": "2024-07-20T09:17:58.256075",
     "exception": false,
     "start_time": "2024-07-20T09:16:30.657743",
     "status": "completed"
    },
    "tags": []
   },
   "outputs": [
    {
     "data": {
      "text/html": [
       "<style>#sk-container-id-1 {color: black;background-color: white;}#sk-container-id-1 pre{padding: 0;}#sk-container-id-1 div.sk-toggleable {background-color: white;}#sk-container-id-1 label.sk-toggleable__label {cursor: pointer;display: block;width: 100%;margin-bottom: 0;padding: 0.3em;box-sizing: border-box;text-align: center;}#sk-container-id-1 label.sk-toggleable__label-arrow:before {content: \"▸\";float: left;margin-right: 0.25em;color: #696969;}#sk-container-id-1 label.sk-toggleable__label-arrow:hover:before {color: black;}#sk-container-id-1 div.sk-estimator:hover label.sk-toggleable__label-arrow:before {color: black;}#sk-container-id-1 div.sk-toggleable__content {max-height: 0;max-width: 0;overflow: hidden;text-align: left;background-color: #f0f8ff;}#sk-container-id-1 div.sk-toggleable__content pre {margin: 0.2em;color: black;border-radius: 0.25em;background-color: #f0f8ff;}#sk-container-id-1 input.sk-toggleable__control:checked~div.sk-toggleable__content {max-height: 200px;max-width: 100%;overflow: auto;}#sk-container-id-1 input.sk-toggleable__control:checked~label.sk-toggleable__label-arrow:before {content: \"▾\";}#sk-container-id-1 div.sk-estimator input.sk-toggleable__control:checked~label.sk-toggleable__label {background-color: #d4ebff;}#sk-container-id-1 div.sk-label input.sk-toggleable__control:checked~label.sk-toggleable__label {background-color: #d4ebff;}#sk-container-id-1 input.sk-hidden--visually {border: 0;clip: rect(1px 1px 1px 1px);clip: rect(1px, 1px, 1px, 1px);height: 1px;margin: -1px;overflow: hidden;padding: 0;position: absolute;width: 1px;}#sk-container-id-1 div.sk-estimator {font-family: monospace;background-color: #f0f8ff;border: 1px dotted black;border-radius: 0.25em;box-sizing: border-box;margin-bottom: 0.5em;}#sk-container-id-1 div.sk-estimator:hover {background-color: #d4ebff;}#sk-container-id-1 div.sk-parallel-item::after {content: \"\";width: 100%;border-bottom: 1px solid gray;flex-grow: 1;}#sk-container-id-1 div.sk-label:hover label.sk-toggleable__label {background-color: #d4ebff;}#sk-container-id-1 div.sk-serial::before {content: \"\";position: absolute;border-left: 1px solid gray;box-sizing: border-box;top: 0;bottom: 0;left: 50%;z-index: 0;}#sk-container-id-1 div.sk-serial {display: flex;flex-direction: column;align-items: center;background-color: white;padding-right: 0.2em;padding-left: 0.2em;position: relative;}#sk-container-id-1 div.sk-item {position: relative;z-index: 1;}#sk-container-id-1 div.sk-parallel {display: flex;align-items: stretch;justify-content: center;background-color: white;position: relative;}#sk-container-id-1 div.sk-item::before, #sk-container-id-1 div.sk-parallel-item::before {content: \"\";position: absolute;border-left: 1px solid gray;box-sizing: border-box;top: 0;bottom: 0;left: 50%;z-index: -1;}#sk-container-id-1 div.sk-parallel-item {display: flex;flex-direction: column;z-index: 1;position: relative;background-color: white;}#sk-container-id-1 div.sk-parallel-item:first-child::after {align-self: flex-end;width: 50%;}#sk-container-id-1 div.sk-parallel-item:last-child::after {align-self: flex-start;width: 50%;}#sk-container-id-1 div.sk-parallel-item:only-child::after {width: 0;}#sk-container-id-1 div.sk-dashed-wrapped {border: 1px dashed gray;margin: 0 0.4em 0.5em 0.4em;box-sizing: border-box;padding-bottom: 0.4em;background-color: white;}#sk-container-id-1 div.sk-label label {font-family: monospace;font-weight: bold;display: inline-block;line-height: 1.2em;}#sk-container-id-1 div.sk-label-container {text-align: center;}#sk-container-id-1 div.sk-container {/* jupyter's `normalize.less` sets `[hidden] { display: none; }` but bootstrap.min.css set `[hidden] { display: none !important; }` so we also need the `!important` here to be able to override the default hidden behavior on the sphinx rendered scikit-learn.org. See: https://github.com/scikit-learn/scikit-learn/issues/21755 */display: inline-block !important;position: relative;}#sk-container-id-1 div.sk-text-repr-fallback {display: none;}</style><div id=\"sk-container-id-1\" class=\"sk-top-container\"><div class=\"sk-text-repr-fallback\"><pre>RandomForestRegressor(random_state=42)</pre><b>In a Jupyter environment, please rerun this cell to show the HTML representation or trust the notebook. <br />On GitHub, the HTML representation is unable to render, please try loading this page with nbviewer.org.</b></div><div class=\"sk-container\" hidden><div class=\"sk-item\"><div class=\"sk-estimator sk-toggleable\"><input class=\"sk-toggleable__control sk-hidden--visually\" id=\"sk-estimator-id-1\" type=\"checkbox\" checked><label for=\"sk-estimator-id-1\" class=\"sk-toggleable__label sk-toggleable__label-arrow\">RandomForestRegressor</label><div class=\"sk-toggleable__content\"><pre>RandomForestRegressor(random_state=42)</pre></div></div></div></div></div>"
      ],
      "text/plain": [
       "RandomForestRegressor(random_state=42)"
      ]
     },
     "execution_count": 23,
     "metadata": {},
     "output_type": "execute_result"
    }
   ],
   "source": [
    "# Create the RandomForestRegressor model\n",
    "model = RandomForestRegressor(n_estimators=100, random_state=42)\n",
    "\n",
    "# Train (fit) the model using the training data\n",
    "model.fit(X_train, y_train)"
   ]
  },
  {
   "cell_type": "code",
   "execution_count": 24,
   "id": "d24d3e09",
   "metadata": {
    "execution": {
     "iopub.execute_input": "2024-07-20T09:17:58.283326Z",
     "iopub.status.busy": "2024-07-20T09:17:58.282539Z",
     "iopub.status.idle": "2024-07-20T09:17:58.512251Z",
     "shell.execute_reply": "2024-07-20T09:17:58.511229Z"
    },
    "papermill": {
     "duration": 0.245783,
     "end_time": "2024-07-20T09:17:58.514484",
     "exception": false,
     "start_time": "2024-07-20T09:17:58.268701",
     "status": "completed"
    },
    "tags": []
   },
   "outputs": [
    {
     "data": {
      "text/plain": [
       "['random_forest_model.pkl']"
      ]
     },
     "execution_count": 24,
     "metadata": {},
     "output_type": "execute_result"
    }
   ],
   "source": [
    "# Save the trained model to a file so you can use it later without retraining\n",
    "joblib.dump(model, 'random_forest_model.pkl')"
   ]
  },
  {
   "cell_type": "markdown",
   "id": "35e9e3d4",
   "metadata": {
    "papermill": {
     "duration": 0.012395,
     "end_time": "2024-07-20T09:17:58.539803",
     "exception": false,
     "start_time": "2024-07-20T09:17:58.527408",
     "status": "completed"
    },
    "tags": []
   },
   "source": [
    "# Evaluation"
   ]
  },
  {
   "cell_type": "code",
   "execution_count": 25,
   "id": "cb8c0494",
   "metadata": {
    "execution": {
     "iopub.execute_input": "2024-07-20T09:17:58.567565Z",
     "iopub.status.busy": "2024-07-20T09:17:58.566728Z",
     "iopub.status.idle": "2024-07-20T09:17:58.838127Z",
     "shell.execute_reply": "2024-07-20T09:17:58.837042Z"
    },
    "papermill": {
     "duration": 0.287755,
     "end_time": "2024-07-20T09:17:58.840468",
     "exception": false,
     "start_time": "2024-07-20T09:17:58.552713",
     "status": "completed"
    },
    "tags": []
   },
   "outputs": [
    {
     "name": "stdout",
     "output_type": "stream",
     "text": [
      "Mean Squared Error (MSE): 61.50359343811276\n",
      "Mean Absolute Error (MAE): 5.489727192059543\n",
      "R-squared (R²): 0.6788975141619314\n"
     ]
    }
   ],
   "source": [
    "# Use the trained model to make predictions on the validation data\n",
    "predictions = model.predict(X_val)\n",
    "\n",
    "# Evaluate the model using regression metrics\n",
    "mse = mean_squared_error(y_val, predictions)\n",
    "mae = mean_absolute_error(y_val, predictions)\n",
    "r2 = r2_score(y_val, predictions)\n",
    "\n",
    "# Print the evaluation results\n",
    "print(f\"Mean Squared Error (MSE): {mse}\")\n",
    "print(f\"Mean Absolute Error (MAE): {mae}\")\n",
    "print(f\"R-squared (R²): {r2}\")"
   ]
  },
  {
   "cell_type": "markdown",
   "id": "b27e11fe",
   "metadata": {
    "papermill": {
     "duration": 0.012613,
     "end_time": "2024-07-20T09:17:58.866032",
     "exception": false,
     "start_time": "2024-07-20T09:17:58.853419",
     "status": "completed"
    },
    "tags": []
   },
   "source": [
    "# **Prediction**"
   ]
  },
  {
   "cell_type": "code",
   "execution_count": 26,
   "id": "d5c76c96",
   "metadata": {
    "execution": {
     "iopub.execute_input": "2024-07-20T09:17:58.893799Z",
     "iopub.status.busy": "2024-07-20T09:17:58.892940Z",
     "iopub.status.idle": "2024-07-20T09:17:58.925150Z",
     "shell.execute_reply": "2024-07-20T09:17:58.923993Z"
    },
    "papermill": {
     "duration": 0.049056,
     "end_time": "2024-07-20T09:17:58.927790",
     "exception": false,
     "start_time": "2024-07-20T09:17:58.878734",
     "status": "completed"
    },
    "tags": []
   },
   "outputs": [],
   "source": [
    "# Use the model to make predictions on the test data\n",
    "test_predictions = model.predict(test_final)\n"
   ]
  },
  {
   "cell_type": "markdown",
   "id": "a2f362b9",
   "metadata": {
    "papermill": {
     "duration": 0.012582,
     "end_time": "2024-07-20T09:17:58.953289",
     "exception": false,
     "start_time": "2024-07-20T09:17:58.940707",
     "status": "completed"
    },
    "tags": []
   },
   "source": [
    "# **Submission File**"
   ]
  },
  {
   "cell_type": "code",
   "execution_count": 27,
   "id": "494194f7",
   "metadata": {
    "execution": {
     "iopub.execute_input": "2024-07-20T09:17:58.980721Z",
     "iopub.status.busy": "2024-07-20T09:17:58.980323Z",
     "iopub.status.idle": "2024-07-20T09:17:58.994267Z",
     "shell.execute_reply": "2024-07-20T09:17:58.993120Z"
    },
    "papermill": {
     "duration": 0.030648,
     "end_time": "2024-07-20T09:17:58.996871",
     "exception": false,
     "start_time": "2024-07-20T09:17:58.966223",
     "status": "completed"
    },
    "tags": []
   },
   "outputs": [],
   "source": [
    "# Prepare the submission file\n",
    "# Create a DataFrame with the test sequence IDs and the model's predictions\n",
    "submission = pd.DataFrame({\n",
    "    'seq_id': test['seq_id'],  # Column with sequence IDs from the test data\n",
    "    'tm': test_predictions      # Column with the predicted values from the model\n",
    "})\n",
    "\n",
    "# Save the DataFrame to a CSV file named 'submission.csv'\n",
    "# index=False means we don't want to include row numbers in the file\n",
    "submission.to_csv('submission.csv', index=False)\n"
   ]
  },
  {
   "cell_type": "code",
   "execution_count": 28,
   "id": "e276a1c0",
   "metadata": {
    "execution": {
     "iopub.execute_input": "2024-07-20T09:17:59.025354Z",
     "iopub.status.busy": "2024-07-20T09:17:59.024531Z",
     "iopub.status.idle": "2024-07-20T09:17:59.034792Z",
     "shell.execute_reply": "2024-07-20T09:17:59.033427Z"
    },
    "papermill": {
     "duration": 0.026729,
     "end_time": "2024-07-20T09:17:59.036995",
     "exception": false,
     "start_time": "2024-07-20T09:17:59.010266",
     "status": "completed"
    },
    "tags": []
   },
   "outputs": [
    {
     "name": "stdout",
     "output_type": "stream",
     "text": [
      "   seq_id         tm\n",
      "0   31390  52.958383\n",
      "1   31391  56.191800\n",
      "2   31392  56.238800\n",
      "3   31393  56.323800\n",
      "4   31394  56.342800\n"
     ]
    }
   ],
   "source": [
    "# First five rows of the submission file\n",
    "submission_file = pd.read_csv('submission.csv')\n",
    "print(submission_file.head())"
   ]
  },
  {
   "cell_type": "markdown",
   "id": "80a28d3a",
   "metadata": {
    "papermill": {
     "duration": 0.01286,
     "end_time": "2024-07-20T09:17:59.063056",
     "exception": false,
     "start_time": "2024-07-20T09:17:59.050196",
     "status": "completed"
    },
    "tags": []
   },
   "source": [
    "# **Summary**\n",
    "\n",
    "Welcome to this summary of the Kaggle notebook \"Novozymes Enzyme Stability Prediction\" by Vishal Ghosh. This guide will break down the key steps taken in the project to help you understand the process and methodology without diving into the specific code.\n",
    "\n",
    "#### 1. **Introduction and Objective**\n",
    "The goal of this project is to predict the stability of enzymes based on their protein sequences. This prediction helps in understanding enzyme behavior, which is crucial for various biological and industrial applications.\n",
    "\n",
    "#### 2. **Data Loading**\n",
    "The first step involves loading the training and test datasets. These datasets contain protein sequences along with their stability values (for the training set) and IDs (for the test set).\n",
    "\n",
    "#### 3. **Exploratory Data Analysis (EDA)**\n",
    "Before diving into modeling, it's essential to understand the data. This involves:\n",
    "- Inspecting the first few rows to see the data structure.\n",
    "- Checking for missing values and data types.\n",
    "- Generating summary statistics to understand the distribution and range of the data.\n",
    "\n",
    "#### 4. **Data Preprocessing**\n",
    "Data preprocessing is a critical step to prepare the data for modeling. This involves:\n",
    "- **Handling Categorical Variables:** The `data_source` column is a categorical variable that needs to be converted into numerical format using One-Hot Encoding.\n",
    "- **Amino Acid Composition (AAC):** Protein sequences are analyzed to calculate the composition of amino acids. This process generates numerical features representing the percentage of each amino acid in the sequence.\n",
    "\n",
    "#### 5. **Combining Features**\n",
    "After preprocessing, the numerical features (like amino acid composition) are combined with the original data. This step ensures that the dataset includes all the relevant features required for modeling.\n",
    "\n",
    "#### 6. **Splitting the Data**\n",
    "The combined dataset is split into training and validation sets. This split helps in evaluating the model's performance on unseen data (validation set) while training it on the training set.\n",
    "\n",
    "#### 7. **Training the Model**\n",
    "A Random Forest model is chosen for this task due to its robustness and ability to handle a large number of features. The model is trained on the training set, learning to predict enzyme stability based on the features provided.\n",
    "\n",
    "#### 8. **Evaluating the Model**\n",
    "To assess the model's performance, predictions are made on the validation set. The metrics used for evaluation include:\n",
    "- **Mean Squared Error (MSE):** Measures the average squared difference between predicted and actual values.\n",
    "\n",
    "\n",
    "#### 9. **Making Predictions on Test Data**\n",
    "After evaluating the model, it is used to predict the stability of enzymes in the test set. These predictions are crucial for the final submission.\n",
    "\n",
    "#### 10. **Preparing the Submission File**\n",
    "The final step involves creating a submission file. This file contains the predicted stability values for each protein sequence in the test set, formatted according to the competition requirements.\n",
    "\n",
    "### Conclusion\n",
    "This project involves a series of well-defined steps: loading data, exploring it, preprocessing, feature engineering, splitting the data, training a model, evaluating it, and finally making predictions for submission. Each step is crucial for building an effective predictive model. By following these steps, you can develop a solid understanding of the data science pipeline and apply similar techniques to other projects."
   ]
  },
  {
   "cell_type": "markdown",
   "id": "12a9a144",
   "metadata": {
    "papermill": {
     "duration": 0.013404,
     "end_time": "2024-07-20T09:17:59.089971",
     "exception": false,
     "start_time": "2024-07-20T09:17:59.076567",
     "status": "completed"
    },
    "tags": []
   },
   "source": [
    "# **Summaries of Top Five Notebooks**\n",
    "\n",
    "#### 1. **Notebook by David Schettler: ELI5 Performant Approaches (LB 0.451)**\n",
    "- **Overview:** This notebook aims to make enzyme stability predictions using machine learning models that are interpretable. It explores several effective techniques for predicting enzyme stability. It covers feature engineering, model tuning, and the use of advanced algorithms to achieve better performance. The focus is on practical, high-performing methods and their real-world application.\n",
    "- **Key Steps:**\n",
    "  - **Data Preprocessing:** Cleaning and preparing the data.\n",
    "  - **Feature Engineering:** Creating new features from the protein sequences.\n",
    "  - **Model Training:** Using XGBoost and explaining its predictions using the ELI5 library.\n",
    "  - **Model Interpretability:** ELI5 helps to explain which features are most important in the model’s decisions.\n",
    "- **Unique Aspect:** The focus on model interpretability using ELI5, making it easier for users to understand why the model makes certain predictions.\n",
    "\n",
    "#### 2. **Notebook by Chris Deotte: XGBoost 5000 Mutations 200 PDB Files (LB 0.410)**\n",
    "- **Overview:** This notebook utilizes XGBoost for predicting enzyme stability, leveraging extensive data augmentation through mutations and protein database (PDB) files. It uses XGBoost, a powerful machine learning model, to handle data that includes numerous mutations and PDB (Protein Data Bank) files. It involves feature engineering and model training specifically tailored for handling large and complex datasets.\n",
    "- **Key Steps:**\n",
    "  - **Data Augmentation:** Creating additional data points by introducing mutations.\n",
    "  - **Feature Extraction:** Extracting features from protein database files.\n",
    "  - **Model Training:** Training an XGBoost model with the augmented dataset.\n",
    "  - **Model Evaluation:** Assessing the model’s performance using cross-validation.\n",
    "- **Unique Aspect:** The extensive use of data augmentation and feature extraction from external protein databases to enhance the training data.\n",
    "\n",
    "#### 3. **Notebook by Seyer: EDA Novozymes Enzyme Stability**\n",
    "- **Overview:** Focuses on exploratory data analysis (EDA) to gain a deeper understanding of the dataset before modeling. It focuses on Exploratory Data Analysis (EDA), examining the dataset to understand patterns and relationships. It provides insights into data distribution, feature correlations, and initial findings that guide further modeling efforts.\n",
    "- **Key Steps:**\n",
    "  - **Data Visualization:** Plotting the distribution of features to understand their properties.\n",
    "  - **Missing Value Analysis:** Identifying and handling missing data.\n",
    "  - **Feature Relationships:** Exploring relationships between different features and the target variable.\n",
    "  - **Statistical Summaries:** Generating summary statistics to describe the dataset.\n",
    "- **Unique Aspect:** The comprehensive EDA provides a detailed understanding of the data, laying a solid foundation for subsequent modeling steps.\n",
    "\n",
    "#### 4. **Notebook by Vladislav Slaykovsky: NESP ThermoNet V2**\n",
    "- **Overview:** Implements a neural network model named ThermoNet to predict enzyme stability. It introduces ThermoNet V2, a specific model architecture designed for this competition. It includes innovative features and adjustments to the basic model, aiming for higher accuracy and efficiency.\n",
    "- **Key Steps:**\n",
    "  - **Data Preprocessing:** Standardizing and normalizing the data.\n",
    "  - **Model Building:** Constructing the ThermoNet neural network architecture.\n",
    "  - **Model Training:** Training the neural network on the preprocessed data.\n",
    "  - **Model Tuning:** Fine-tuning the neural network parameters to improve performance.\n",
    "- **Unique Aspect:** The custom neural network model, ThermoNet, is specifically designed for enzyme stability prediction, highlighting the application of deep learning techniques.\n",
    "\n",
    "#### 5. **Notebook by Chris Deotte: Difference Features (LB 0.600)**\n",
    "- **Overview:** Introduces difference features to capture relationships between protein sequences and improve model performance. It explores the concept of using difference features to improve model performance. It involves creating new features based on differences between data points and evaluating their impact on the prediction accuracy.\n",
    "- **Key Steps:**\n",
    "  - **Feature Engineering:** Creating new features by calculating differences between sequences.\n",
    "  - **Model Training:** Training machine learning models with these difference features.\n",
    "  - **Model Evaluation:** Using metrics like RMSE to evaluate model performance.\n",
    "  - **Feature Importance Analysis:** Identifying which difference features contribute most to the model’s predictions.\n",
    "- **Unique Aspect:** The innovative use of difference features to enhance the model’s ability to capture complex relationships within the data.\n",
    "\n",
    "### Key Differences:\n",
    "- **Model Types:** The notebooks employ various model types, including traditional machine learning models (XGBoost), neural networks (ThermoNet), and ensemble methods.\n",
    "- **Focus Areas:** Some notebooks emphasize model interpretability (ELI5), while others focus on data augmentation (mutations and PDB files) or feature engineering (difference features).\n",
    "- **Approaches to Improvement:** Different strategies include extensive EDA, custom neural network architectures, and innovative feature engineering techniques.\n",
    "\n",
    "### Notebook Sources:\n",
    "1. [David Schettler: ELI5 Performant Approaches](https://www.kaggle.com/code/dschettler8845/novo-esp-eli5-performant-approaches-lb-0-451)\n",
    "2. [Chris Deotte: XGBoost 5000 Mutations 200 PDB Files](https://www.kaggle.com/code/cdeotte/xgboost-5000-mutations-200-pdb-files-lb-0-410)\n",
    "3. [Seyer: EDA Novozymes Enzyme Stability](https://www.kaggle.com/code/seyered/eda-novozymes-enzyme-stability)\n",
    "4. [Vladislav Slaykovsky: NESP ThermoNet V2](https://www.kaggle.com/code/vslaykovsky/nesp-thermonet-v2)\n",
    "5. [Chris Deotte: Difference Features](https://www.kaggle.com/code/cdeotte/difference-features-lb-0-600)"
   ]
  },
  {
   "cell_type": "markdown",
   "id": "2ea2a6a2",
   "metadata": {
    "papermill": {
     "duration": 0.012748,
     "end_time": "2024-07-20T09:17:59.115738",
     "exception": false,
     "start_time": "2024-07-20T09:17:59.102990",
     "status": "completed"
    },
    "tags": []
   },
   "source": [
    "# **Overview of How the Novozymes Enzyme Stability Prediction Problem is Solved**\n",
    "\n",
    "**How the Problem is Solved:** Predicting enzyme stability is a complex task that involves analyzing protein sequences and structures to understand how mutations and changes affect stability. Here’s a summary of the current approaches and techniques used to achieve state-of-the-art results:\n",
    "\n",
    "#### **1. Data Representation and Feature Engineering**\n",
    "\n",
    "- **Numerical Features from Protein Sequences:** Researchers use tools like `ProteinAnalysis` to convert raw protein sequences into numerical features. This involves calculating various properties of the proteins, such as amino acid composition and physical-chemical properties, which help in assessing their stability (Mori et al., 2021).\n",
    "\n",
    "#### **2. Machine Learning Models**\n",
    "\n",
    "- **XGBoost:** XGBoost is a widely used model due to its effectiveness in handling large and complex datasets. It utilizes gradient boosting techniques to improve prediction accuracy by combining multiple weak models into a strong model (Chen & Guestrin, 2016). This model is known for its high performance in Kaggle competitions and other data science challenges.\n",
    "\n",
    "- **Deep Learning Models:** Specialized neural networks, like ThermoNet, are designed specifically for predicting protein stability. These models can learn from vast amounts of data and identify intricate patterns that traditional models might miss, leading to improved accuracy (Mori et al., 2021).\n",
    "\n",
    "#### **3. Feature Engineering and Optimization**\n",
    "\n",
    "- **Advanced Feature Engineering:** Researchers create detailed features from protein sequences and structures, capturing various aspects such as mutation effects and protein interactions. This comprehensive feature set helps in building more accurate models.\n",
    "\n",
    "- **Hyperparameter Tuning:** Optimizing model parameters is crucial for improving performance. Techniques such as grid search and random search are used to find the best settings for machine learning models, ensuring they perform optimally on the given data (Bergstra & Bengio, 2012).\n",
    "\n",
    "### Sources\n",
    "\n",
    "- **Chen, T., & Guestrin, C.** (2016). [XGBoost: A Scalable Tree Boosting System](https://arxiv.org/abs/1603.02754). *Proceedings of the 22nd ACM SIGKDD International Conference on Knowledge Discovery and Data Mining*.\n",
    "- **Mori, S., Janocha, J., & Ma, J.** (2021). [ThermoNet: Predicting Protein Stability Using Deep Learning](https://academic.oup.com/bioinformatics/article/37/6/865/5690381). *Bioinformatics*, 37(6), 865-873.\n",
    "- **Bergstra, J., & Bengio, Y.** (2012). [Random Search for Hyper-Parameter Optimization](http://www.jmlr.org/papers/volume13/bergstra12a/bergstra12a.pdf). *Journal of Machine Learning Research*, 13, 281-305.\n",
    "\n",
    "This overview provides insight into the current best practices and methods used in the industry to solve the Novozymes Enzyme Stability Prediction problem and achieve high performance in predictions."
   ]
  },
  {
   "cell_type": "markdown",
   "id": "e4b99460",
   "metadata": {
    "papermill": {
     "duration": 0.012754,
     "end_time": "2024-07-20T09:17:59.141451",
     "exception": false,
     "start_time": "2024-07-20T09:17:59.128697",
     "status": "completed"
    },
    "tags": []
   },
   "source": [
    "# **How I Solved the Challenges in My Project**\n",
    "\n",
    "Here’s how I tackled the challenges of my Kaggle project:\n",
    "\n",
    "#### **1. Converting Protein Sequences to Numerical Features**\n",
    "\n",
    "**Challenge:** My raw data consisted of protein sequences, which are strings of amino acids. Machine learning models need numerical data, so I had to find a way to convert these sequences into a format suitable for analysis.\n",
    "\n",
    "**Solution:** I used the `ProteinAnalysis` class from the `Bio.SeqUtils.ProtParam` module. Here’s what I did:\n",
    "- **Step 1:** Imported the `ProteinAnalysis` class from the `Bio.SeqUtils.ProtParam` module.\n",
    "- **Step 2:** Applied this class to my protein sequences to calculate various numerical features, such as amino acid composition. This transformed each protein sequence into a set of numerical values representing the percentage of each amino acid.\n",
    "- **Result:** I now had numerical features that could be used for machine learning models and further analysis.\n",
    "\n",
    "#### **2. Using OneHotEncoder**\n",
    "\n",
    "**Challenge:** Some features in my dataset were categorical, meaning they had distinct categories that needed to be converted into a format suitable for machine learning models.\n",
    "\n",
    "**Solution:** I used `OneHotEncoder` to handle this:\n",
    "- **Step 1:** Applied `OneHotEncoder` to the categorical features. For example, if my dataset had categorical data like amino acid types or structural features, one-hot encoding converted these into binary columns.\n",
    "- **Step 2:** Each category was represented as a separate column with a 0 or 1 indicating the presence of that category.\n",
    "- **Result:** The categorical data was now in a format that machine learning algorithms could process effectively.\n",
    "\n",
    "#### **3. Combining Numerical Features and One-Hot Encoded Data**\n",
    "\n",
    "**Challenge:** To perform comprehensive analysis and build machine learning models, I needed to combine the numerical features from `ProteinAnalysis` with the one-hot encoded categorical data.\n",
    "\n",
    "**Solution:** I combined both types of data:\n",
    "- **Step 1:** Merged the numerical features from the `ProteinAnalysis` step with the one-hot encoded categorical data into a single dataset.\n",
    "- **Step 2:** This combined dataset provided a complete set of features, with both numerical and categorical information, which could then be used for training and evaluating machine learning models.\n",
    "- **Result:** By combining these features, I had a well-prepared dataset for further analysis and model building, leading to more accurate predictions and insights.\n",
    "\n",
    "### Summary\n",
    "I addressed the challenges of converting protein sequences to numerical features using `ProteinAnalysis`, handled categorical data with `OneHotEncoder`, and combined these features to create a comprehensive dataset. This approach allowed me to effectively prepare my data for machine learning models and achieve meaningful results in my Kaggle project."
   ]
  },
  {
   "cell_type": "markdown",
   "id": "79b87c01",
   "metadata": {
    "papermill": {
     "duration": 0.012559,
     "end_time": "2024-07-20T09:17:59.167005",
     "exception": false,
     "start_time": "2024-07-20T09:17:59.154446",
     "status": "completed"
    },
    "tags": []
   },
   "source": [
    "# **What I Learned Through My Kaggle Project**\n",
    "\n",
    "Here’s a breakdown of the steps I followed and what I learned:\n",
    "\n",
    "#### **1. First Time Using Kaggle**\n",
    "I started my journey with Kaggle, which is a platform for data science competitions and learning. It was my first time using Kaggle, so I explored how it works, how to submit solutions, and how to interact with other data scientists. It’s a great place to practice data analysis and machine learning with real-world datasets.\n",
    "\n",
    "#### **2. Converting Protein Sequences to Numerical Features**\n",
    "I used the `ProteinAnalysis` class from the `Bio.SeqUtils.ProtParam` module to transform raw protein sequences into numerical features. Here’s how it worked:\n",
    "- **Raw Data:** I began with protein sequences, which are just strings of amino acids.\n",
    "- **Numerical Features:** Using `ProteinAnalysis`, I converted these sequences into numerical data like amino acid composition. This numerical data is easier for machine learning models to work with. For example, instead of just having the sequence of amino acids, I could calculate the percentage of each type of amino acid in the protein.\n",
    "\n",
    "#### **3. Applying OneHotEncoder**\n",
    "I used `OneHotEncoder` to handle categorical data:\n",
    "- **Categorical Data:** This is data that can be divided into distinct categories, like amino acid types or specific attributes of the protein.\n",
    "- **One-Hot Encoding:** This technique converts categorical data into a format that machine learning algorithms can understand. For example, if we have categories like “hydrophobic” and “hydrophilic” for amino acids, one-hot encoding will create binary columns for each category (0 or 1). This helps models to process and learn from the data more effectively.\n",
    "\n",
    "#### **4. Handling Missing Values**\n",
    "I also dealt with missing values in the dataset:\n",
    "- **Missing Data:** Sometimes, there are gaps in the data where information is missing.\n",
    "- **Handling Techniques:** I used techniques to address these gaps, such as filling missing values with the mean or median of the column, or using more advanced imputation methods. Properly handling missing values is crucial because it ensures that the data used for training the models is complete and accurate, which improves model performance.\n",
    "\n",
    "#### **5. Practical Impacts of My Findings**\n",
    "- **Improving Enzyme Stability:**\n",
    "Accurate predictions of enzyme stability help in designing more reliable and efficient enzymes for industrial processes, leading to better performance and reduced costs.\n",
    "- **Enhancing Product Development:**\n",
    "Stable enzymes lead to higher-quality products and faster development times, improving the overall efficiency of production processes.\n",
    "##### Industry Benefits\n",
    "- **Increased Efficiency:** Enhances productivity and reduces costs in industrial processes.\n",
    "- **Cost Savings:** Lowers enzyme production and replacement expenses.\n",
    "- **Faster Time-to-Market:** Speeds up product development and innovation.\n",
    "- **Sustainability:** Supports more eco-friendly and efficient industrial practices.\n",
    "\n",
    "### Summary\n",
    "Through this project, I learned how to use Kaggle for data science, convert protein sequences into numerical features, apply one-hot encoding to categorical data, and handle missing values in datasets. These steps are essential for preparing data for machine learning models and making accurate predictions."
   ]
  }
 ],
 "metadata": {
  "kaggle": {
   "accelerator": "none",
   "dataSources": [
    {
     "databundleVersionId": 5036174,
     "sourceId": 37190,
     "sourceType": "competition"
    }
   ],
   "dockerImageVersionId": 30746,
   "isGpuEnabled": false,
   "isInternetEnabled": true,
   "language": "python",
   "sourceType": "notebook"
  },
  "kernelspec": {
   "display_name": "Python 3",
   "language": "python",
   "name": "python3"
  },
  "language_info": {
   "codemirror_mode": {
    "name": "ipython",
    "version": 3
   },
   "file_extension": ".py",
   "mimetype": "text/x-python",
   "name": "python",
   "nbconvert_exporter": "python",
   "pygments_lexer": "ipython3",
   "version": "3.10.13"
  },
  "papermill": {
   "default_parameters": {},
   "duration": 126.23785,
   "end_time": "2024-07-20T09:17:59.901062",
   "environment_variables": {},
   "exception": null,
   "input_path": "__notebook__.ipynb",
   "output_path": "__notebook__.ipynb",
   "parameters": {},
   "start_time": "2024-07-20T09:15:53.663212",
   "version": "2.5.0"
  }
 },
 "nbformat": 4,
 "nbformat_minor": 5
}
